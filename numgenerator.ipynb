{
 "cells": [
  {
   "cell_type": "code",
   "execution_count": null,
   "id": "9306f596",
   "metadata": {},
   "outputs": [],
   "source": [
    "import json\n",
    "import random\n",
    "import math\n",
    "import numpy as np\n",
    "import calendar\n",
    "import pandas as pd \n",
    "from random import seed\n",
    "from random import randint\n",
    "from random import randrange\n",
    "from __future__ import unicode_literals"
   ]
  },
  {
   "cell_type": "code",
   "execution_count": null,
   "id": "03a9ed04",
   "metadata": {},
   "outputs": [],
   "source": [
    "# GET /convert\n",
    "req = json.loads(REQUEST)\n",
    "args = req['args']\n",
    "\n",
    "if 'angle' not in args:\n",
    "  print(json.dumps({'convertedAngle': None}))\n",
    "else:\n",
    "  # Note the [0] when retrieving the argument.\n",
    "  # This is because you could potentially pass multiple angles.\n",
    "  angle = int(args['angle'][0])\n",
    "  converted = math.radians(angle)\n",
    "  print(json.dumps({'convertedAngle': converted}))"
   ]
  },
  {
   "cell_type": "code",
   "execution_count": null,
   "id": "e2274660",
   "metadata": {},
   "outputs": [],
   "source": [
    "$ jupyter kernelgateway --KernelGatewayApp.api='kernel_gateway.notebook_http' --KernelGatewayApp.seed_uri='/home/username/Notebook.ipynb'\n",
    "#[KernelGatewayApp] Kernel started: 72515fd8-6314-4d65-9f48-8214756850d7\n",
    "#[KernelGatewayApp] Registering resource: /convert, methods: (['GET'])\n",
    "#[KernelGatewayApp] Registering resource: /_api/spec/swagger.json, methods: (GET)\n",
    "#[KernelGatewayApp] Jupyter Kernel Gateway at http://*:8888"
   ]
  },
  {
   "cell_type": "code",
   "execution_count": 23,
   "id": "d6f9ee65",
   "metadata": {},
   "outputs": [
    {
     "name": "stdout",
     "output_type": "stream",
     "text": [
      "[72.2877458 27.7122542]\n",
      "100.0\n"
     ]
    }
   ],
   "source": [
    "# generate random values Number of Prs raised per spend Classification\n",
    "def rd(n, total_sum):\n",
    "    nums = np.random.rand(n)\n",
    "    return nums/np.sum(nums)*total_sum\n",
    "\n",
    "n = rd(2,100)\n",
    "print(n)\n",
    "print(n.sum())"
   ]
  },
  {
   "cell_type": "code",
   "execution_count": 24,
   "id": "b701d6a0",
   "metadata": {},
   "outputs": [
    {
     "name": "stdout",
     "output_type": "stream",
     "text": [
      "[48, 22, 27, 9]\n"
     ]
    }
   ],
   "source": [
    "# generate random Value of Requests raised per department\n",
    "reqsraised = [\"mrkvalue\", \"it\", \"finance\",\"admin\"]\n",
    "reqsraised = random.sample(range(1,51), k=4)\n",
    "print(reqsraised)\n"
   ]
  },
  {
   "cell_type": "code",
   "execution_count": 25,
   "id": "2207347b",
   "metadata": {},
   "outputs": [
    {
     "name": "stdout",
     "output_type": "stream",
     "text": [
      "[32, 49, 26, 38]\n"
     ]
    }
   ],
   "source": [
    "# generate random Value for Status of Requests Raised\n",
    "stsreqraised = [\"approved\", \"converted\", \"wip\",\"rejected\"]\n",
    "stsreqraised = random.sample(range(1,51), k=4)\n",
    "\n",
    "print(stsreqraised)"
   ]
  },
  {
   "cell_type": "code",
   "execution_count": 26,
   "id": "96c28d06",
   "metadata": {},
   "outputs": [
    {
     "name": "stdout",
     "output_type": "stream",
     "text": [
      "[29, 19, 48, 86, 82, 10, 17, 36, 67, 66, 33, 3, 23, 46, 21, 38, 93, 59, 75, 6, 39, 42, 88, 53, 85, 76, 13, 63, 5, 99, 83, 14, 95, 15, 73, 97, 89, 11, 72, 35, 87, 91, 96, 50, 80, 24, 30, 27, 69, 55]\n"
     ]
    }
   ],
   "source": [
    "#Generate 50 random numbers between 1 and 100 for delayed request\n",
    "\n",
    "delrequest = random.sample(range(1, 100),50)\n",
    "print(delrequest)\n",
    "\n"
   ]
  },
  {
   "cell_type": "code",
   "execution_count": 27,
   "id": "9d90032c",
   "metadata": {},
   "outputs": [
    {
     "name": "stdout",
     "output_type": "stream",
     "text": [
      "            m  random_value\n",
      "0     January             1\n",
      "1    February             8\n",
      "2       March             8\n",
      "3       April             1\n",
      "4         May             9\n",
      "5        June            10\n",
      "6        July             3\n",
      "7      August             4\n",
      "8   September             3\n",
      "9     October            10\n",
      "10   November             3\n",
      "11   December             9\n"
     ]
    }
   ],
   "source": [
    "#Generate random numbers for Requests Raised overtime for each month of the year\n",
    "m = []\n",
    "import calendar\n",
    "for month in calendar.month_name:\n",
    "    m.append(month)\n",
    "\n",
    "m.pop(0) #remove the empty value\n",
    "\n",
    "\n",
    "\n",
    "random_value = []\n",
    "\n",
    "for i in range(0,12):\n",
    "    x = random.randint(1,10)\n",
    "    random_value.append(x)\n",
    "\n",
    "\n",
    "\n",
    "list3 = m + random_value\n",
    "\n",
    "\n",
    "\n",
    "req_raised = pd.DataFrame({'m' : m, 'random_value' : random_value})\n",
    "\n",
    "req_raised.to_csv('items.csv', index=False, encoding='utf-8')\n",
    "print(req_raised)\n",
    "\n",
    "\n",
    "\n",
    "\n",
    "\n"
   ]
  },
  {
   "cell_type": "code",
   "execution_count": 28,
   "id": "a9d265da",
   "metadata": {},
   "outputs": [
    {
     "name": "stdout",
     "output_type": "stream",
     "text": [
      "            t  random_value\n",
      "0     January             3\n",
      "1    February             6\n",
      "2       March             5\n",
      "3       April             4\n",
      "4         May             7\n",
      "5        June            10\n",
      "6        July             7\n",
      "7      August             4\n",
      "8   September             3\n",
      "9     October             4\n",
      "10   November             7\n",
      "11   December             9\n"
     ]
    }
   ],
   "source": [
    "\n",
    "#Generate random numbers for Trends in Request processing time for each month of the year\n",
    "t = []\n",
    "import calendar\n",
    "for month in calendar.month_name:\n",
    "    t.append(month)\n",
    "\n",
    "t.pop(0) #remove the empty value\n",
    "\n",
    "\n",
    "\n",
    "random_value = []\n",
    "\n",
    "for i in range(0,12):\n",
    "    x = random.randint(1,10)\n",
    "    random_value.append(x)\n",
    "\n",
    "\n",
    "\n",
    "list3 = t + random_value\n",
    "\n",
    "\n",
    "\n",
    "req_processing = pd.DataFrame({'t' : t, 'random_value' : random_value})\n",
    "\n",
    "req_processing.to_csv('items.csv', index=False, encoding='utf-8')\n",
    "print(req_processing)\n",
    "\n",
    "\n",
    "\n",
    "\n",
    "\n"
   ]
  },
  {
   "cell_type": "code",
   "execution_count": 29,
   "id": "be96cdb8",
   "metadata": {},
   "outputs": [
    {
     "name": "stdout",
     "output_type": "stream",
     "text": [
      "    l1  l2  l3    average\n",
      "0   55  34  24  37.666667\n",
      "1   90  47  26  54.333333\n",
      "2   40  99  75  71.333333\n",
      "3   70  68  62  66.666667\n",
      "4   99  69   9  59.000000\n",
      "5   66  78  91  78.333333\n",
      "6   38  91  23  50.666667\n",
      "7   43  74   4  40.333333\n",
      "8   16  83  37  45.333333\n",
      "9   45   1  47  31.000000\n",
      "10  21  11   5  12.333333\n",
      "11  48  49  87  61.333333\n",
      "12  46  82  61  63.000000\n",
      "13  41  48  30  39.666667\n",
      "14  60  27  51  46.000000\n",
      "15  75  45  66  62.000000\n",
      "16  76  94  31  67.000000\n",
      "17  44   5  25  24.666667\n",
      "18  27  75  34  45.333333\n",
      "19   7  28  80  38.333333\n"
     ]
    }
   ],
   "source": [
    "#Generate random numbers for Average Processing time for each month of the year\n",
    "l1 = random.sample(range(1, 100),20)\n",
    "\n",
    "\n",
    "l2 = random.sample(range(1, 100),20)\n",
    "\n",
    "\n",
    "l3 = random.sample(range(1, 100),20)\n",
    "\n",
    "\n",
    "avg_processing_time = pd.DataFrame({'l1' : l1, 'l2' : l2, 'l3' : l3 })\n",
    "avg_processing_time.to_csv('items.csv', index=False, encoding='utf-8')\n",
    "avg_processing_time['average'] = avg_processing_time.mean(axis=1)\n",
    "print(avg_processing_time)\n"
   ]
  },
  {
   "cell_type": "code",
   "execution_count": 30,
   "id": "4a0f698a",
   "metadata": {},
   "outputs": [
    {
     "name": "stdout",
     "output_type": "stream",
     "text": [
      "    target  actual  pr_percentage\n",
      "0      649     859      75.552969\n",
      "1      680     159     427.672956\n",
      "2       13     751       1.731025\n",
      "3      550     176     312.500000\n",
      "4      471     444     106.081081\n",
      "5      259     523      49.521989\n",
      "6      831     744     111.693548\n",
      "7      813     409     198.777506\n",
      "8      318     800      39.750000\n",
      "9      127     936      13.568376\n",
      "10     222     789      28.136882\n",
      "11     868     289     300.346021\n",
      "12     527     385     136.883117\n",
      "13     772     105     735.238095\n",
      "14     462     704      65.625000\n",
      "15     862     552     156.159420\n",
      "16     761     295     257.966102\n",
      "17     737     519     142.003854\n",
      "18     724     229     316.157205\n",
      "19      28     996       2.811245\n"
     ]
    }
   ],
   "source": [
    "#Generate random numbers for PR creation to PR approval target versus actual\n",
    "target = random.sample(range(1, 1000),20)\n",
    "\n",
    "\n",
    "actual = random.sample(range(1, 1000),20)\n",
    "#joining the lists into a dataframe\n",
    "percentage = pd.DataFrame({'target' : target, 'actual' : actual })\n",
    "percentage.to_csv('items.csv', index=False, encoding='utf-8')\n",
    "#changing string datatype to interger\n",
    "percentage ['target'] = percentage ['target'].astype(int)\n",
    "percentage['actual'] = percentage['actual'].astype(int)\n",
    "\n",
    "\n",
    "percentage['pr_percentage'] = (percentage['target'] / percentage['actual']) *100\n",
    "print (percentage)\n",
    "\n",
    "\n",
    "\n"
   ]
  },
  {
   "cell_type": "code",
   "execution_count": 37,
   "id": "97187b19",
   "metadata": {},
   "outputs": [
    {
     "name": "stdout",
     "output_type": "stream",
     "text": [
      "[22, 15, 26, 16, 21, 27, 10, 28, 14, 29, 13, 20, 18, 19, 23, 11, 17, 12, 25, 24]\n"
     ]
    }
   ],
   "source": [
    "#Generate random numbers for Delays in Processing PRs\n",
    "avg_delays_processing = random.sample(range(10, 30), 20)\n",
    "print(avg_delays_processing)\n"
   ]
  },
  {
   "cell_type": "code",
   "execution_count": 44,
   "id": "4de1efcb",
   "metadata": {},
   "outputs": [
    {
     "name": "stdout",
     "output_type": "stream",
     "text": [
      "     pr   po  requests_percentage\n",
      "0   606  761            79.632063\n",
      "1   838  572           146.503497\n",
      "2   955   26          3673.076923\n",
      "3   956  232           412.068966\n",
      "4   975  939           103.833866\n",
      "5   736  247           297.975709\n",
      "6   935   61          1532.786885\n",
      "7   911  754           120.822281\n",
      "8   139  384            36.197917\n",
      "9   860  557           154.398564\n",
      "10  769   48          1602.083333\n",
      "11  859  394           218.020305\n",
      "12  750  880            85.227273\n",
      "13  762  676           112.721893\n",
      "14  176  587            29.982964\n",
      "15  492  949            51.844046\n",
      "16  728  958            75.991649\n",
      "17  574  338           169.822485\n",
      "18  460  799            57.571965\n",
      "19  882  327           269.724771\n"
     ]
    }
   ],
   "source": [
    "#Generate random numbers for PR to PO conversion rate \n",
    "pr = random.sample(range(1, 1000),20)\n",
    "\n",
    "\n",
    "po = random.sample(range(1, 1000),20)\n",
    "\n",
    "conversion_rate = pd.DataFrame({'pr' : pr, 'po' : po })\n",
    "conversion_rate.to_csv('items.csv', index=False, encoding='utf-8')\n",
    "conversion_rate['requests_percentage'] = (conversion_rate['pr'] / conversion_rate['po']) *100\n",
    "print (conversion_rate)"
   ]
  },
  {
   "cell_type": "code",
   "execution_count": 45,
   "id": "e4a910ff",
   "metadata": {},
   "outputs": [
    {
     "name": "stdout",
     "output_type": "stream",
     "text": [
      "[1, 20, 9, 19, 4, 16, 25, 15, 2, 27, 7, 17, 13, 24, 8, 23, 29, 6, 5, 18]\n"
     ]
    }
   ],
   "source": [
    "#Generate random numbers for Conversion time\n",
    "conversion_time = random.sample(range(1, 30), 20)\n",
    "print(conversion_time)"
   ]
  },
  {
   "cell_type": "code",
   "execution_count": 65,
   "id": "2acd9be4",
   "metadata": {},
   "outputs": [
    {
     "data": {
      "text/html": [
       "<div>\n",
       "<style scoped>\n",
       "    .dataframe tbody tr th:only-of-type {\n",
       "        vertical-align: middle;\n",
       "    }\n",
       "\n",
       "    .dataframe tbody tr th {\n",
       "        vertical-align: top;\n",
       "    }\n",
       "\n",
       "    .dataframe thead th {\n",
       "        text-align: right;\n",
       "    }\n",
       "</style>\n",
       "<table border=\"1\" class=\"dataframe\">\n",
       "  <thead>\n",
       "    <tr style=\"text-align: right;\">\n",
       "      <th></th>\n",
       "      <th>linenumber</th>\n",
       "      <th>Name</th>\n",
       "      <th>Department</th>\n",
       "      <th>processed_request</th>\n",
       "    </tr>\n",
       "  </thead>\n",
       "  <tbody>\n",
       "    <tr>\n",
       "      <th>0</th>\n",
       "      <td>L1</td>\n",
       "      <td>John doe</td>\n",
       "      <td>Marketing</td>\n",
       "      <td>63</td>\n",
       "    </tr>\n",
       "    <tr>\n",
       "      <th>1</th>\n",
       "      <td>L2</td>\n",
       "      <td>Jane njoki</td>\n",
       "      <td>Sales</td>\n",
       "      <td>84</td>\n",
       "    </tr>\n",
       "    <tr>\n",
       "      <th>2</th>\n",
       "      <td>L3</td>\n",
       "      <td>Alex michi</td>\n",
       "      <td>Accounting</td>\n",
       "      <td>62</td>\n",
       "    </tr>\n",
       "  </tbody>\n",
       "</table>\n",
       "</div>"
      ],
      "text/plain": [
       "  linenumber        Name  Department  processed_request\n",
       "0         L1    John doe   Marketing                 63\n",
       "1         L2  Jane njoki       Sales                 84\n",
       "2         L3  Alex michi  Accounting                 62"
      ]
     },
     "execution_count": 65,
     "metadata": {},
     "output_type": "execute_result"
    }
   ],
   "source": [
    "#Generate random numbers for Top officers by processed requests\n",
    "# Define a dictionary containing officers data\n",
    "data = {'linenumber':['L1', 'L2', 'L3'],\n",
    "    'Name':['John doe', 'Jane njoki', 'Alex michi'],\n",
    "        'Department':['Marketing', 'Sales', 'Accounting']}\n",
    "        \n",
    "  \n",
    "# Convert the dictionary into DataFrame \n",
    "\n",
    "df = pd.DataFrame(data)\n",
    "df\n",
    "#adding a random number column to the data frame\n",
    "df['processed_request'] = np.random.randint(1, 100, df.shape[0])\n",
    "df\n"
   ]
  },
  {
   "cell_type": "code",
   "execution_count": 66,
   "id": "0cb85453",
   "metadata": {},
   "outputs": [
    {
     "data": {
      "text/html": [
       "<div>\n",
       "<style scoped>\n",
       "    .dataframe tbody tr th:only-of-type {\n",
       "        vertical-align: middle;\n",
       "    }\n",
       "\n",
       "    .dataframe tbody tr th {\n",
       "        vertical-align: top;\n",
       "    }\n",
       "\n",
       "    .dataframe thead th {\n",
       "        text-align: right;\n",
       "    }\n",
       "</style>\n",
       "<table border=\"1\" class=\"dataframe\">\n",
       "  <thead>\n",
       "    <tr style=\"text-align: right;\">\n",
       "      <th></th>\n",
       "      <th>linenumber</th>\n",
       "      <th>Name</th>\n",
       "      <th>Department</th>\n",
       "      <th>no_of_days</th>\n",
       "    </tr>\n",
       "  </thead>\n",
       "  <tbody>\n",
       "    <tr>\n",
       "      <th>0</th>\n",
       "      <td>L1</td>\n",
       "      <td>John doe</td>\n",
       "      <td>Marketing</td>\n",
       "      <td>11</td>\n",
       "    </tr>\n",
       "    <tr>\n",
       "      <th>1</th>\n",
       "      <td>L2</td>\n",
       "      <td>Jane njoki</td>\n",
       "      <td>Sales</td>\n",
       "      <td>14</td>\n",
       "    </tr>\n",
       "    <tr>\n",
       "      <th>2</th>\n",
       "      <td>L3</td>\n",
       "      <td>Alex michi</td>\n",
       "      <td>Accounting</td>\n",
       "      <td>5</td>\n",
       "    </tr>\n",
       "  </tbody>\n",
       "</table>\n",
       "</div>"
      ],
      "text/plain": [
       "  linenumber        Name  Department  no_of_days\n",
       "0         L1    John doe   Marketing          11\n",
       "1         L2  Jane njoki       Sales          14\n",
       "2         L3  Alex michi  Accounting           5"
      ]
     },
     "execution_count": 66,
     "metadata": {},
     "output_type": "execute_result"
    }
   ],
   "source": [
    "#Generate random numbers for Top performers in PR processing\n",
    "# Define a dictionary containing officers data\n",
    "data = {'linenumber':['L1', 'L2', 'L3'],\n",
    "    'Name':['John doe', 'Jane njoki', 'Alex michi'],\n",
    "        'Department':['Marketing', 'Sales', 'Accounting']}\n",
    "        \n",
    "  \n",
    "# Convert the dictionary into DataFrame \n",
    "\n",
    "df1 = pd.DataFrame(data)\n",
    "df1\n",
    "#adding a random number column to the data frame\n",
    "df1['no_of_days'] = np.random.randint(1, 30, df.shape[0])\n",
    "df1\n"
   ]
  },
  {
   "cell_type": "code",
   "execution_count": 82,
   "id": "1dbc4402",
   "metadata": {},
   "outputs": [
    {
     "name": "stdout",
     "output_type": "stream",
     "text": [
      "112.88731544582593\n"
     ]
    }
   ],
   "source": [
    "#Generate random numbers for Total Value of Prs raised\n",
    "#get total of orders by summing up all processed requests\n",
    "orders = df['processed_request'].sum()\n",
    "\n",
    "\n",
    "total_value_of_prs_raised = random.random()*orders\n",
    "print(total_value_of_prs_raised)\n",
    "\n"
   ]
  },
  {
   "cell_type": "code",
   "execution_count": null,
   "id": "1acbc336",
   "metadata": {},
   "outputs": [],
   "source": [
    "#Generate random numbers for Uptake rate\n"
   ]
  },
  {
   "cell_type": "code",
   "execution_count": 86,
   "id": "ad514ef0",
   "metadata": {},
   "outputs": [
    {
     "name": "stdout",
     "output_type": "stream",
     "text": [
      "10\n"
     ]
    }
   ],
   "source": [
    "#Generate Requesting Highlights from the randomly generated from Requests Raised overtime\n",
    "\n",
    "column = req_raised[\"random_value\"]\n",
    "max_value = column.max()\n",
    "print(max_value)"
   ]
  },
  {
   "cell_type": "raw",
   "id": "8b4ce751",
   "metadata": {},
   "source": []
  },
  {
   "cell_type": "code",
   "execution_count": null,
   "id": "08dd5bbc",
   "metadata": {},
   "outputs": [],
   "source": []
  },
  {
   "cell_type": "code",
   "execution_count": null,
   "id": "d7d6e16c",
   "metadata": {},
   "outputs": [],
   "source": []
  },
  {
   "cell_type": "code",
   "execution_count": null,
   "id": "4f1144fc",
   "metadata": {},
   "outputs": [],
   "source": []
  },
  {
   "cell_type": "code",
   "execution_count": null,
   "id": "c46ac728",
   "metadata": {},
   "outputs": [],
   "source": []
  },
  {
   "cell_type": "code",
   "execution_count": null,
   "id": "a227baf5",
   "metadata": {},
   "outputs": [],
   "source": []
  },
  {
   "cell_type": "code",
   "execution_count": null,
   "id": "63360a3a",
   "metadata": {},
   "outputs": [],
   "source": []
  },
  {
   "cell_type": "code",
   "execution_count": null,
   "id": "061d226b",
   "metadata": {},
   "outputs": [],
   "source": []
  },
  {
   "cell_type": "code",
   "execution_count": null,
   "id": "cef87e22",
   "metadata": {},
   "outputs": [],
   "source": []
  },
  {
   "cell_type": "code",
   "execution_count": null,
   "id": "e8f3ee80",
   "metadata": {},
   "outputs": [],
   "source": []
  },
  {
   "cell_type": "code",
   "execution_count": null,
   "id": "9c6d024d",
   "metadata": {},
   "outputs": [],
   "source": []
  },
  {
   "cell_type": "code",
   "execution_count": null,
   "id": "2fdcf1e6",
   "metadata": {},
   "outputs": [],
   "source": []
  },
  {
   "cell_type": "code",
   "execution_count": null,
   "id": "ed961e99",
   "metadata": {},
   "outputs": [],
   "source": []
  },
  {
   "cell_type": "code",
   "execution_count": null,
   "id": "e43d3617",
   "metadata": {},
   "outputs": [],
   "source": []
  },
  {
   "cell_type": "code",
   "execution_count": null,
   "id": "ca16cbdf",
   "metadata": {},
   "outputs": [],
   "source": []
  },
  {
   "cell_type": "code",
   "execution_count": null,
   "id": "a0b0842e",
   "metadata": {},
   "outputs": [],
   "source": []
  },
  {
   "cell_type": "code",
   "execution_count": null,
   "id": "825637cc",
   "metadata": {},
   "outputs": [],
   "source": []
  },
  {
   "cell_type": "code",
   "execution_count": null,
   "id": "54107ee3",
   "metadata": {},
   "outputs": [],
   "source": []
  },
  {
   "cell_type": "code",
   "execution_count": null,
   "id": "648fd93c",
   "metadata": {},
   "outputs": [],
   "source": []
  },
  {
   "cell_type": "code",
   "execution_count": null,
   "id": "79dca9ae",
   "metadata": {},
   "outputs": [],
   "source": []
  },
  {
   "cell_type": "code",
   "execution_count": null,
   "id": "6d58574e",
   "metadata": {},
   "outputs": [],
   "source": [
    "\n",
    "\n"
   ]
  },
  {
   "cell_type": "code",
   "execution_count": null,
   "id": "20d4b181",
   "metadata": {},
   "outputs": [],
   "source": []
  },
  {
   "cell_type": "code",
   "execution_count": null,
   "id": "a47e7427",
   "metadata": {},
   "outputs": [],
   "source": []
  }
 ],
 "metadata": {
  "kernelspec": {
   "display_name": "Python 3 (ipykernel)",
   "language": "python",
   "name": "python3"
  },
  "language_info": {
   "codemirror_mode": {
    "name": "ipython",
    "version": 3
   },
   "file_extension": ".py",
   "mimetype": "text/x-python",
   "name": "python",
   "nbconvert_exporter": "python",
   "pygments_lexer": "ipython3",
   "version": "3.9.7"
  }
 },
 "nbformat": 4,
 "nbformat_minor": 5
}
